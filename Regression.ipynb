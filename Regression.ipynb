{
 "cells": [
  {
   "cell_type": "markdown",
   "metadata": {},
   "source": [
    "### Hilal Durmaz - HW1"
   ]
  },
  {
   "cell_type": "code",
   "execution_count": 1,
   "metadata": {},
   "outputs": [],
   "source": [
    "import numpy as np\n",
    "import pandas as pd\n",
    "import seaborn as sns\n",
    "import matplotlib.pyplot as plt\n",
    "from sklearn import preprocessing\n",
    "from sklearn.pipeline import Pipeline\n",
    "from sklearn.metrics import roc_curve, auc\n",
    "from sklearn.metrics import accuracy_score\n",
    "from sklearn.preprocessing import StandardScaler\n",
    "from sklearn.model_selection import train_test_split\n",
    "from sklearn.model_selection import StratifiedKFold, RepeatedKFold\n",
    "from sklearn.model_selection import GridSearchCV, RandomizedSearchCV\n",
    "sns.set()\n",
    "from sklearn import linear_model as lin\n",
    "from sklearn import metrics as met\n",
    "from sklearn.linear_model import LogisticRegression\n",
    "from sklearn import model_selection as mod\n",
    "import warnings\n",
    "warnings.filterwarnings('ignore')"
   ]
  },
  {
   "cell_type": "markdown",
   "metadata": {},
   "source": [
    "***Question-1***"
   ]
  },
  {
   "cell_type": "code",
   "execution_count": 5,
   "metadata": {},
   "outputs": [],
   "source": [
    "from sklearn import datasets as dat\n",
    "data = dat.load_diabetes()\n",
    "X = data.data\n",
    "y = data.target\n"
   ]
  },
  {
   "cell_type": "markdown",
   "metadata": {},
   "source": [
    "***Question-2***"
   ]
  },
  {
   "cell_type": "code",
   "execution_count": 6,
   "metadata": {},
   "outputs": [],
   "source": [
    "X_train, X_test, y_train, y_test = train_test_split(X, y, test_size=0.25, random_state=42)"
   ]
  },
  {
   "cell_type": "markdown",
   "metadata": {},
   "source": [
    "***Question-3***"
   ]
  },
  {
   "cell_type": "code",
   "execution_count": 22,
   "metadata": {},
   "outputs": [],
   "source": [
    "pipe = Pipeline([ ('scale', StandardScaler()),\n",
    "                 ('clf',    lin.SGDRegressor(random_state=42))])\n",
    "\n",
    "\n"
   ]
  },
  {
   "cell_type": "code",
   "execution_count": 23,
   "metadata": {},
   "outputs": [
    {
     "data": {
      "text/plain": [
       "56.43451900121812"
      ]
     },
     "execution_count": 23,
     "metadata": {},
     "output_type": "execute_result"
    }
   ],
   "source": [
    "#Train RMSE in SGDRegressor with default parameter\n",
    "mod.cross_val_score(pipe, X_train, y_train, cv=3, scoring=\"neg_root_mean_squared_error\").mean() * -1"
   ]
  },
  {
   "cell_type": "code",
   "execution_count": 24,
   "metadata": {},
   "outputs": [
    {
     "data": {
      "text/plain": [
       "53.3827048237806"
      ]
     },
     "execution_count": 24,
     "metadata": {},
     "output_type": "execute_result"
    }
   ],
   "source": [
    "#Test RMSE in SGDRegressor with default parameter\n",
    "pipe.fit(X_train, y_train)\n",
    "y_pred = pipe.predict(X_test)\n",
    "met.mean_squared_error(y_test, y_pred, squared=False)"
   ]
  },
  {
   "cell_type": "markdown",
   "metadata": {},
   "source": [
    "***Question-4***"
   ]
  },
  {
   "cell_type": "code",
   "execution_count": 25,
   "metadata": {},
   "outputs": [],
   "source": [
    "#Linear Regression\n",
    "pipe2 = Pipeline([ ('scale', StandardScaler()),\n",
    "                 ('clf',     lin.LinearRegression())])\n"
   ]
  },
  {
   "cell_type": "code",
   "execution_count": 26,
   "metadata": {},
   "outputs": [
    {
     "data": {
      "text/plain": [
       "56.341238094702256"
      ]
     },
     "execution_count": 26,
     "metadata": {},
     "output_type": "execute_result"
    }
   ],
   "source": [
    "#Train RMSE in Linear Regression with default parameter\n",
    "mod.cross_val_score(pipe2, X_train, y_train, cv=3, scoring=\"neg_root_mean_squared_error\").mean() * -1"
   ]
  },
  {
   "cell_type": "code",
   "execution_count": 27,
   "metadata": {},
   "outputs": [
    {
     "data": {
      "text/plain": [
       "53.3694229679593"
      ]
     },
     "execution_count": 27,
     "metadata": {},
     "output_type": "execute_result"
    }
   ],
   "source": [
    "#Test RMSE in Linear Regression with default parameter\n",
    "pipe2.fit(X_train, y_train)\n",
    "y_pred = pipe2.predict(X_test)\n",
    "met.mean_squared_error(y_test, y_pred, squared=False)"
   ]
  },
  {
   "cell_type": "code",
   "execution_count": 28,
   "metadata": {},
   "outputs": [],
   "source": [
    "#SGD Regressor with 10 alpha\n",
    "pipe3 = Pipeline([ ('scale', StandardScaler()),\n",
    "                 ('clf',    lin.SGDRegressor(alpha=10,random_state=42))])\n"
   ]
  },
  {
   "cell_type": "code",
   "execution_count": 29,
   "metadata": {},
   "outputs": [
    {
     "data": {
      "text/plain": [
       "70.98862272353186"
      ]
     },
     "execution_count": 29,
     "metadata": {},
     "output_type": "execute_result"
    }
   ],
   "source": [
    "#Train RMSE in SGD Regressor with 10 alpha\n",
    "mod.cross_val_score(pipe3, X_train, y_train, cv=3, scoring=\"neg_root_mean_squared_error\").mean() * -1"
   ]
  },
  {
   "cell_type": "code",
   "execution_count": 30,
   "metadata": {},
   "outputs": [
    {
     "data": {
      "text/plain": [
       "67.92850761031465"
      ]
     },
     "execution_count": 30,
     "metadata": {},
     "output_type": "execute_result"
    }
   ],
   "source": [
    "#Test RMSE in SGD Regressor with 10 alpha\n",
    "pipe3.fit(X_train, y_train)\n",
    "y_pred = pipe3.predict(X_test)\n",
    "met.mean_squared_error(y_test, y_pred, squared=False)"
   ]
  },
  {
   "cell_type": "code",
   "execution_count": 31,
   "metadata": {},
   "outputs": [],
   "source": [
    "#Learning Curve\n",
    "def plot_learning_curve(est, X_train, y_train, X_test, y_test, isReg=True):\n",
    "  x_values = []\n",
    "  y_values_train = []\n",
    "  y_values_test = []\n",
    "\n",
    "  myList = np.linspace(40, len(X_train), 10)\n",
    "  for i in myList:\n",
    "    i = int(i)\n",
    "    X_train_fold = X_train[:i]\n",
    "    y_train_fold = y_train[:i]\n",
    "\n",
    "    est.fit(X_train_fold, y_train_fold)\n",
    "\n",
    "    #train score prediction\n",
    "    y_train_pred = est.predict(X_train_fold)\n",
    "    if isReg:\n",
    "      train_score = met.mean_squared_error(y_train_fold, y_train_pred, squared=False)\n",
    "    else:\n",
    "      train_score = met.accuracy_score(y_train_fold, y_train_pred)\n",
    "\n",
    "    #test score prediction\n",
    "    y_test_pred = est.predict(X_test)\n",
    "    if isReg:\n",
    "      test_score = met.mean_squared_error(y_test, y_test_pred, squared=False)\n",
    "    else:\n",
    "      test_score = met.accuracy_score(y_test, y_test_pred)\n",
    "\n",
    "    x_values.append(i)\n",
    "    y_values_train.append(train_score)\n",
    "    y_values_test.append(test_score)\n",
    "  \n",
    "  yTitle = \"RMSE Score\"\n",
    "  if not isReg:\n",
    "    yTitle = \"Accuracy Score\"\n",
    "  plt.plot(x_values, y_values_train, label=\"train\")\n",
    "  plt.plot(x_values, y_values_test, label=\"test\")\n",
    "  plt.title(\"Learning curve\")\n",
    "  plt.xlabel(\"Train Sample Size\")\n",
    "  if isReg:\n",
    "    plt.ylim(0, 80)\n",
    "  plt.ylabel(yTitle)\n",
    "  plt.legend()\n",
    "  plt.grid(True)\n",
    "  plt.show()"
   ]
  },
  {
   "cell_type": "markdown",
   "metadata": {},
   "source": [
    "***Learning Cuve - Linear Regression***\n",
    "\n",
    "As we expected, the higher the train RMSE value, the lower the test RMSE value.Train and test scores combined at approximately 55 RMSE , but this is not a good result. By looking at the learning curve, we cannot say that it is underfit or overfitted."
   ]
  },
  {
   "cell_type": "code",
   "execution_count": 32,
   "metadata": {},
   "outputs": [
    {
     "data": {
      "image/png": "[encoded data removed]",
      "text/plain": [
       "<Figure size 432x288 with 1 Axes>"
      ]
     },
     "metadata": {
      "needs_background": "light"
     },
     "output_type": "display_data"
    }
   ],
   "source": [
    "#Learning Cuve - Linear Regression\n",
    "plot_learning_curve(pipe2, X_train, y_train, X_test, y_test, isReg=True)  "
   ]
  },
  {
   "cell_type": "markdown",
   "metadata": {},
   "source": [
    "***Learning Curve - SGD Regressor(with alpha as 10, and random_state as 42)***\n",
    "\n",
    "I used SGDRegressor (with alpha as 10, and random_state as 42). Alpha is a Constant that multiplies the regularization term. The higher the value, the stronger the regularization.I drew the learning curve of the first model I used to see how the increase of the alpha value affects the RMSE values.Model underfits the data as both the training and test scores are low.train and test RMSE score are increasing  , We expect the test RMSE value to decrease. In this situation adding more training data will NOT help. We should decrease the alpha value."
   ]
  },
  {
   "cell_type": "code",
   "execution_count": 33,
   "metadata": {},
   "outputs": [
    {
     "data": {
      "image/png": "[encoded data removed]",
      "text/plain": [
       "<Figure size 432x288 with 1 Axes>"
      ]
     },
     "metadata": {
      "needs_background": "light"
     },
     "output_type": "display_data"
    }
   ],
   "source": [
    "plot_learning_curve(pipe3, X_train, y_train, X_test, y_test, isReg=True)  \n"
   ]
  },
  {
   "cell_type": "markdown",
   "metadata": {},
   "source": [
    "***Learning Curve - SGD Regressor***"
   ]
  },
  {
   "cell_type": "code",
   "execution_count": 35,
   "metadata": {},
   "outputs": [
    {
     "data": {
      "image/png": "[encoded data removed]",
      "text/plain": [
       "<Figure size 432x288 with 1 Axes>"
      ]
     },
     "metadata": {
      "needs_background": "light"
     },
     "output_type": "display_data"
    }
   ],
   "source": [
    "plot_learning_curve(pipe, X_train, y_train, X_test, y_test, isReg=True)"
   ]
  },
  {
   "cell_type": "markdown",
   "metadata": {},
   "source": [
    "***Question-4***"
   ]
  },
  {
   "cell_type": "code",
   "execution_count": 20,
   "metadata": {},
   "outputs": [
    {
     "data": {
      "text/plain": [
       "GridSearchCV(cv=3, error_score=nan,\n",
       "             estimator=Pipeline(memory=None,\n",
       "                                steps=[('scale',\n",
       "                                        StandardScaler(copy=True,\n",
       "                                                       with_mean=True,\n",
       "                                                       with_std=True)),\n",
       "                                       ('clf',\n",
       "                                        SGDRegressor(alpha=0.0001,\n",
       "                                                     average=False,\n",
       "                                                     early_stopping=False,\n",
       "                                                     epsilon=0.1, eta0=0.01,\n",
       "                                                     fit_intercept=True,\n",
       "                                                     l1_ratio=0.15,\n",
       "                                                     learning_rate='invscaling',\n",
       "                                                     loss='squared_loss',\n",
       "                                                     max_iter=1000,\n",
       "                                                     n_iter_no_change=5,\n",
       "                                                     penalty='l...\n",
       "       1.891e+00, 1.896e+00, 1.901e+00, 1.906e+00, 1.911e+00, 1.916e+00,\n",
       "       1.921e+00, 1.926e+00, 1.931e+00, 1.936e+00, 1.941e+00, 1.946e+00,\n",
       "       1.951e+00, 1.956e+00, 1.961e+00, 1.966e+00, 1.971e+00, 1.976e+00,\n",
       "       1.981e+00, 1.986e+00, 1.991e+00, 1.996e+00]),\n",
       "                         'clf__penalty': ['l1', 'l2']},\n",
       "             pre_dispatch='2*n_jobs', refit=True, return_train_score=False,\n",
       "             scoring='neg_root_mean_squared_error', verbose=0)"
      ]
     },
     "execution_count": 20,
     "metadata": {},
     "output_type": "execute_result"
    }
   ],
   "source": [
    "pipe4 = Pipeline([ ('scale', StandardScaler()),\n",
    "                 ('clf',    lin.SGDRegressor(random_state=42))])\n",
    "\n",
    "\n",
    "params = {\n",
    "    \"clf__alpha\": np.arange(0.001, 2.0, 0.005),\n",
    "    'clf__penalty': ['l1','l2']\n",
    "}\n",
    "\n",
    "grid = mod.GridSearchCV(pipe4, params, scoring=\"neg_root_mean_squared_error\", cv=3, n_jobs=-1)\n",
    "grid.fit(X_train, y_train)"
   ]
  },
  {
   "cell_type": "code",
   "execution_count": 59,
   "metadata": {},
   "outputs": [
    {
     "data": {
      "text/plain": [
       "{'clf__alpha': 0.106, 'clf__penalty': 'l2'}"
      ]
     },
     "execution_count": 59,
     "metadata": {},
     "output_type": "execute_result"
    }
   ],
   "source": [
    "#best parameters\n",
    "grid.best_params_"
   ]
  },
  {
   "cell_type": "code",
   "execution_count": 36,
   "metadata": {},
   "outputs": [
    {
     "data": {
      "text/plain": [
       "-56.204747512099964"
      ]
     },
     "execution_count": 36,
     "metadata": {},
     "output_type": "execute_result"
    }
   ],
   "source": [
    "grid.best_score_"
   ]
  },
  {
   "cell_type": "code",
   "execution_count": 37,
   "metadata": {},
   "outputs": [
    {
     "data": {
      "text/plain": [
       "53.11324023207999"
      ]
     },
     "execution_count": 37,
     "metadata": {},
     "output_type": "execute_result"
    }
   ],
   "source": [
    "y_pred = grid.predict(X_test)\n",
    "met.mean_squared_error(y_test, y_pred, squared=False)"
   ]
  },
  {
   "cell_type": "code",
   "execution_count": null,
   "metadata": {},
   "outputs": [],
   "source": []
  }
 ],
 "metadata": {
  "kernelspec": {
   "display_name": "Python 3",
   "language": "python",
   "name": "python3"
  },
  "language_info": {
   "codemirror_mode": {
    "name": "ipython",
    "version": 3
   },
   "file_extension": ".py",
   "mimetype": "text/x-python",
   "name": "python",
   "nbconvert_exporter": "python",
   "pygments_lexer": "ipython3",
   "version": "3.7.4"
  }
 },
 "nbformat": 4,
 "nbformat_minor": 2
}
